{
  "nbformat": 4,
  "nbformat_minor": 0,
  "metadata": {
    "colab": {
      "name": "Perceptron_RoboGeek_19_07_2020.ipynb",
      "provenance": [],
      "collapsed_sections": [],
      "authorship_tag": "ABX9TyPBQ+JMet2PY4zZI4Jz6AvW",
      "include_colab_link": true
    },
    "kernelspec": {
      "name": "python3",
      "display_name": "Python 3"
    }
  },
  "cells": [
    {
      "cell_type": "markdown",
      "metadata": {
        "id": "view-in-github",
        "colab_type": "text"
      },
      "source": [
        "<a href=\"https://colab.research.google.com/github/MarwenAbbes-TN/RoboGeek_DeepLearning_Sessions/blob/master/Perceptron_RoboGeek_19_07_2020.ipynb\" target=\"_parent\"><img src=\"https://colab.research.google.com/assets/colab-badge.svg\" alt=\"Open In Colab\"/></a>"
      ]
    },
    {
      "cell_type": "code",
      "metadata": {
        "id": "KDYZY0edvoXl",
        "colab_type": "code",
        "colab": {}
      },
      "source": [
        "import numpy as np\n",
        "import random\n",
        "from math import exp"
      ],
      "execution_count": null,
      "outputs": []
    },
    {
      "cell_type": "code",
      "metadata": {
        "id": "3IDY80iPwqsj",
        "colab_type": "code",
        "colab": {}
      },
      "source": [
        "Weights = np.random.rand(2)\n",
        "Weights[0]= random.randrange(10)\n",
        "Weights[1]= random.randrange(10)\n",
        "Bais = np.random.rand(2)"
      ],
      "execution_count": null,
      "outputs": []
    },
    {
      "cell_type": "code",
      "metadata": {
        "id": "JRfcH_acy4b2",
        "colab_type": "code",
        "colab": {}
      },
      "source": [
        "LearningRate = 0.09"
      ],
      "execution_count": null,
      "outputs": []
    },
    {
      "cell_type": "code",
      "metadata": {
        "id": "Gw0WiWQizsBN",
        "colab_type": "code",
        "colab": {}
      },
      "source": [
        "def FeedForward(input1, input2):\n",
        "  return Sign(input1*Weights[0]+ input2*Weights[1] + Bais[0])"
      ],
      "execution_count": null,
      "outputs": []
    },
    {
      "cell_type": "code",
      "metadata": {
        "id": "3JMT0NYq0NcW",
        "colab_type": "code",
        "colab": {}
      },
      "source": [
        "def BackProb(Predicted, Truth):\n",
        "  error = ( Truth - Predicted)\n",
        "  for  i in range(2):\n",
        "    Weights[i]= Weights[i] + Weights[i]* error * LearningRate\n",
        "    Bais[i] = Bais[i] + Bais[i] * error * LearningRate"
      ],
      "execution_count": null,
      "outputs": []
    },
    {
      "cell_type": "code",
      "metadata": {
        "id": "TSMDTD3J1XD7",
        "colab_type": "code",
        "colab": {}
      },
      "source": [
        "def Showresults(): \n",
        "  Answer1 = FeedForward(0,0)\n",
        "  print ( Answer1)\n",
        "  Answer2 = FeedForward(1,0)\n",
        "  print ( Answer2)\n",
        "  Answer3 = FeedForward(0,1)\n",
        "  print ( Answer3)\n",
        "  Answer4 = FeedForward(1,1)\n",
        "  print ( Answer4)\n",
        "  print('--------------')"
      ],
      "execution_count": null,
      "outputs": []
    },
    {
      "cell_type": "code",
      "metadata": {
        "id": "u8rqH1X36f70",
        "colab_type": "code",
        "colab": {}
      },
      "source": [
        "def Sign(x):\n",
        "  if x>=2 : \n",
        "    return 1\n",
        "  else : \n",
        "    return 0"
      ],
      "execution_count": null,
      "outputs": []
    },
    {
      "cell_type": "code",
      "metadata": {
        "id": "n7yyPJlw7Aah",
        "colab_type": "code",
        "colab": {}
      },
      "source": [
        "def Segmoid(x):\n",
        "  return 1/(1+exp(-x))"
      ],
      "execution_count": null,
      "outputs": []
    },
    {
      "cell_type": "code",
      "metadata": {
        "id": "iUz8puoc8N7a",
        "colab_type": "code",
        "colab": {}
      },
      "source": [
        "def Train(): \n",
        "  BackProb(FeedForward(0,0),1)\n",
        "  BackProb(FeedForward(1,0),1)\n",
        "  BackProb(FeedForward(0,1),1)\n",
        "  BackProb(FeedForward(1,1),0)\n"
      ],
      "execution_count": null,
      "outputs": []
    },
    {
      "cell_type": "code",
      "metadata": {
        "id": "kpLrTxR917XL",
        "colab_type": "code",
        "colab": {
          "base_uri": "https://localhost:8080/",
          "height": 1000
        },
        "outputId": "4412fdd9-8483-46c7-d9cc-378b064c5ae2"
      },
      "source": [
        "for k in range(20):\n",
        "  print(k,'\\n')\n",
        "  Showresults()\n",
        "  Train()"
      ],
      "execution_count": null,
      "outputs": [
        {
          "output_type": "stream",
          "text": [
            "0 \n",
            "\n",
            "0\n",
            "1\n",
            "0\n",
            "1\n",
            "--------------\n",
            "1 \n",
            "\n",
            "0\n",
            "1\n",
            "0\n",
            "1\n",
            "--------------\n",
            "2 \n",
            "\n",
            "0\n",
            "1\n",
            "0\n",
            "1\n",
            "--------------\n",
            "3 \n",
            "\n",
            "0\n",
            "1\n",
            "0\n",
            "1\n",
            "--------------\n",
            "4 \n",
            "\n",
            "0\n",
            "1\n",
            "0\n",
            "1\n",
            "--------------\n",
            "5 \n",
            "\n",
            "0\n",
            "1\n",
            "0\n",
            "1\n",
            "--------------\n",
            "6 \n",
            "\n",
            "0\n",
            "1\n",
            "0\n",
            "1\n",
            "--------------\n",
            "7 \n",
            "\n",
            "0\n",
            "1\n",
            "0\n",
            "1\n",
            "--------------\n",
            "8 \n",
            "\n",
            "0\n",
            "1\n",
            "0\n",
            "1\n",
            "--------------\n",
            "9 \n",
            "\n",
            "0\n",
            "1\n",
            "0\n",
            "1\n",
            "--------------\n",
            "10 \n",
            "\n",
            "0\n",
            "1\n",
            "0\n",
            "1\n",
            "--------------\n",
            "11 \n",
            "\n",
            "0\n",
            "1\n",
            "0\n",
            "1\n",
            "--------------\n",
            "12 \n",
            "\n",
            "0\n",
            "1\n",
            "0\n",
            "1\n",
            "--------------\n",
            "13 \n",
            "\n",
            "0\n",
            "1\n",
            "0\n",
            "1\n",
            "--------------\n",
            "14 \n",
            "\n",
            "0\n",
            "1\n",
            "0\n",
            "1\n",
            "--------------\n",
            "15 \n",
            "\n",
            "0\n",
            "1\n",
            "0\n",
            "1\n",
            "--------------\n",
            "16 \n",
            "\n",
            "0\n",
            "1\n",
            "0\n",
            "1\n",
            "--------------\n",
            "17 \n",
            "\n",
            "0\n",
            "1\n",
            "0\n",
            "1\n",
            "--------------\n",
            "18 \n",
            "\n",
            "0\n",
            "1\n",
            "0\n",
            "1\n",
            "--------------\n",
            "19 \n",
            "\n",
            "0\n",
            "1\n",
            "0\n",
            "1\n",
            "--------------\n"
          ],
          "name": "stdout"
        }
      ]
    }
  ]
}